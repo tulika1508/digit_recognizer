{
  "nbformat": 4,
  "nbformat_minor": 0,
  "metadata": {
    "colab": {
      "provenance": [],
      "gpuType": "T4"
    },
    "kernelspec": {
      "name": "python3",
      "display_name": "Python 3"
    },
    "language_info": {
      "name": "python"
    },
    "accelerator": "GPU"
  },
  "cells": [
    {
      "cell_type": "code",
      "source": [
        "import os\n",
        "import time\n",
        "\n",
        "import numpy as np\n",
        "import pandas as pd\n",
        "\n",
        "import torch\n",
        "import torch.nn as nn\n",
        "import torch.nn.functional as F\n",
        "from torch.utils.data import DataLoader\n",
        "\n",
        "from torchvision import datasets\n",
        "from torchvision import transforms\n",
        "\n",
        "import matplotlib.pyplot as plt\n",
        "from PIL import Image\n",
        "\n",
        "\n",
        "if torch.cuda.is_available():\n",
        "    torch.backends.cudnn.deterministic = True"
      ],
      "metadata": {
        "id": "ikxaOW3_5wMa"
      },
      "execution_count": 6,
      "outputs": []
    },
    {
      "cell_type": "code",
      "source": [
        "RANDOM_SEED = 1\n",
        "LEARNING_RATE = 0.001\n",
        "BATCH_SIZE = 128\n",
        "NUM_EPOCHS = 10\n",
        "\n",
        "# Architecture\n",
        "NUM_FEATURES = 28*28\n",
        "NUM_CLASSES = 10\n",
        "\n",
        "# Other\n",
        "DEVICE = \"cuda:1\"\n",
        "GRAYSCALE = True"
      ],
      "metadata": {
        "id": "2VIYbL4751HA"
      },
      "execution_count": 7,
      "outputs": []
    },
    {
      "cell_type": "code",
      "source": [
        "train_dataset = datasets.MNIST(root='data',\n",
        "                               train=True,\n",
        "                               transform=transforms.ToTensor(),\n",
        "                               download=True)\n",
        "\n",
        "test_dataset = datasets.MNIST(root='data',\n",
        "                              train=False,\n",
        "                              transform=transforms.ToTensor())\n",
        "\n",
        "\n",
        "train_loader = DataLoader(dataset=train_dataset,\n",
        "                          batch_size=BATCH_SIZE,\n",
        "                          shuffle=True)\n",
        "\n",
        "test_loader = DataLoader(dataset=test_dataset,\n",
        "                         batch_size=BATCH_SIZE,\n",
        "                         shuffle=False)\n",
        "\n",
        "# Checking the dataset\n",
        "for images, labels in train_loader:\n",
        "    print('Image batch dimensions:', images.shape)\n",
        "    print('Image label dimensions:', labels.shape)\n",
        "    break"
      ],
      "metadata": {
        "colab": {
          "base_uri": "https://localhost:8080/"
        },
        "id": "W-5NfzMp55W3",
        "outputId": "e7add1d8-e6be-4c54-d80f-5f1610f252a4"
      },
      "execution_count": 8,
      "outputs": [
        {
          "output_type": "stream",
          "name": "stdout",
          "text": [
            "Image batch dimensions: torch.Size([128, 1, 28, 28])\n",
            "Image label dimensions: torch.Size([128])\n"
          ]
        }
      ]
    },
    {
      "cell_type": "code",
      "source": [
        "DEVICE = \"cuda\" if torch.cuda.is_available() else \"cpu\""
      ],
      "metadata": {
        "id": "D0V0z1CixdLR"
      },
      "execution_count": 9,
      "outputs": []
    },
    {
      "cell_type": "code",
      "source": [
        "device = torch.device(DEVICE)\n",
        "torch.manual_seed(0)\n",
        "\n",
        "for epoch in range(2):\n",
        "\n",
        "    for batch_idx, (x, y) in enumerate(train_loader):\n",
        "\n",
        "        print('Epoch:', epoch+1, end='')\n",
        "        print(' | Batch index:', batch_idx, end='')\n",
        "        print(' | Batch size:', y.size()[0])\n",
        "\n",
        "        x = x.to(device)\n",
        "        y = y.to(device)\n",
        "        break"
      ],
      "metadata": {
        "colab": {
          "base_uri": "https://localhost:8080/"
        },
        "id": "D5wwESrk5_EX",
        "outputId": "14e516ee-28e0-41e0-d466-631ca374fc46"
      },
      "execution_count": 11,
      "outputs": [
        {
          "output_type": "stream",
          "name": "stdout",
          "text": [
            "Epoch: 1 | Batch index: 0 | Batch size: 128\n",
            "Epoch: 2 | Batch index: 0 | Batch size: 128\n"
          ]
        }
      ]
    },
    {
      "cell_type": "code",
      "source": [
        "def conv3x3(in_planes, out_planes, stride=1):\n",
        "    \"\"\"3x3 convolution with padding\"\"\"\n",
        "    return nn.Conv2d(in_planes, out_planes, kernel_size=3, stride=stride,\n",
        "                     padding=1, bias=False)\n",
        "\n",
        "\n",
        "class BasicBlock(nn.Module):\n",
        "    expansion = 1\n",
        "\n",
        "    def __init__(self, inplanes, planes, stride=1, downsample=None):\n",
        "        super(BasicBlock, self).__init__()\n",
        "        self.conv1 = conv3x3(inplanes, planes, stride)\n",
        "        self.bn1 = nn.BatchNorm2d(planes)\n",
        "        self.relu = nn.ReLU(inplace=True)\n",
        "        self.conv2 = conv3x3(planes, planes)\n",
        "        self.bn2 = nn.BatchNorm2d(planes)\n",
        "        self.downsample = downsample\n",
        "        self.stride = stride\n",
        "\n",
        "    def forward(self, x):\n",
        "        residual = x\n",
        "\n",
        "        out = self.conv1(x)\n",
        "        out = self.bn1(out)\n",
        "        out = self.relu(out)\n",
        "\n",
        "        out = self.conv2(out)\n",
        "        out = self.bn2(out)\n",
        "\n",
        "        if self.downsample is not None:\n",
        "            residual = self.downsample(x)\n",
        "        out += residual\n",
        "        out = self.relu(out)\n",
        "\n",
        "        return out\n",
        "\n",
        "\n",
        "\n",
        "\n",
        "class ResNet(nn.Module):\n",
        "\n",
        "    def __init__(self, block, layers, num_classes, grayscale):\n",
        "        self.inplanes = 64\n",
        "        if grayscale:\n",
        "            in_dim = 1\n",
        "        else:\n",
        "            in_dim = 3\n",
        "        super(ResNet, self).__init__()\n",
        "        self.conv1 = nn.Conv2d(in_dim, 64, kernel_size=7, stride=2, padding=3,\n",
        "                               bias=False)\n",
        "        self.bn1 = nn.BatchNorm2d(64)\n",
        "        self.relu = nn.ReLU(inplace=True)\n",
        "        self.maxpool = nn.MaxPool2d(kernel_size=3, stride=2, padding=1)\n",
        "        self.layer1 = self._make_layer(block, 64, layers[0])\n",
        "        self.layer2 = self._make_layer(block, 128, layers[1], stride=2)\n",
        "        self.layer3 = self._make_layer(block, 256, layers[2], stride=2)\n",
        "        self.layer4 = self._make_layer(block, 512, layers[3], stride=2)\n",
        "        self.avgpool = nn.AvgPool2d(7, stride=1)\n",
        "        self.fc = nn.Linear(512 * block.expansion, num_classes)\n",
        "\n",
        "        for m in self.modules():\n",
        "            if isinstance(m, nn.Conv2d):\n",
        "                n = m.kernel_size[0] * m.kernel_size[1] * m.out_channels\n",
        "                m.weight.data.normal_(0, (2. / n)**.5)\n",
        "            elif isinstance(m, nn.BatchNorm2d):\n",
        "                m.weight.data.fill_(1)\n",
        "                m.bias.data.zero_()\n",
        "\n",
        "    def _make_layer(self, block, planes, blocks, stride=1):\n",
        "        downsample = None\n",
        "        if stride != 1 or self.inplanes != planes * block.expansion:\n",
        "            downsample = nn.Sequential(\n",
        "                nn.Conv2d(self.inplanes, planes * block.expansion,\n",
        "                          kernel_size=1, stride=stride, bias=False),\n",
        "                nn.BatchNorm2d(planes * block.expansion),\n",
        "            )\n",
        "\n",
        "        layers = []\n",
        "        layers.append(block(self.inplanes, planes, stride, downsample))\n",
        "        self.inplanes = planes * block.expansion\n",
        "        for i in range(1, blocks):\n",
        "            layers.append(block(self.inplanes, planes))\n",
        "\n",
        "        return nn.Sequential(*layers)\n",
        "\n",
        "    def forward(self, x):\n",
        "        x = self.conv1(x)\n",
        "        x = self.bn1(x)\n",
        "        x = self.relu(x)\n",
        "        x = self.maxpool(x)\n",
        "\n",
        "        x = self.layer1(x)\n",
        "        x = self.layer2(x)\n",
        "        x = self.layer3(x)\n",
        "        x = self.layer4(x)\n",
        "        # because MNIST is already 1x1 here:\n",
        "        # disable avg pooling\n",
        "        #x = self.avgpool(x)\n",
        "\n",
        "        x = x.view(x.size(0), -1)\n",
        "        logits = self.fc(x)\n",
        "        probas = F.softmax(logits, dim=1)\n",
        "        return logits, probas\n",
        "\n",
        "\n",
        "\n",
        "def resnet18(num_classes):\n",
        "    \"\"\"Constructs a ResNet-18 model.\"\"\"\n",
        "    model = ResNet(block=BasicBlock,\n",
        "                   layers=[2, 2, 2, 2],\n",
        "                   num_classes=NUM_CLASSES,\n",
        "                   grayscale=GRAYSCALE)\n",
        "    return model"
      ],
      "metadata": {
        "id": "On8o7aUUx5WW"
      },
      "execution_count": 12,
      "outputs": []
    },
    {
      "cell_type": "code",
      "source": [
        "torch.manual_seed(RANDOM_SEED)\n",
        "\n",
        "model = resnet18(NUM_CLASSES)\n",
        "model.to(DEVICE)\n",
        "\n",
        "optimizer = torch.optim.Adam(model.parameters(), lr=LEARNING_RATE)\n"
      ],
      "metadata": {
        "id": "Xu_WfXbgyTYD"
      },
      "execution_count": 13,
      "outputs": []
    },
    {
      "cell_type": "code",
      "source": [
        "def compute_accuracy(model, data_loader, device):\n",
        "    correct_pred, num_examples = 0, 0\n",
        "    for i, (features, targets) in enumerate(data_loader):\n",
        "\n",
        "        features = features.to(device)\n",
        "        targets = targets.to(device)\n",
        "\n",
        "        logits, probas = model(features)\n",
        "        _, predicted_labels = torch.max(probas, 1)\n",
        "        num_examples += targets.size(0)\n",
        "        correct_pred += (predicted_labels == targets).sum()\n",
        "    return correct_pred.float()/num_examples * 100\n",
        "\n",
        "\n",
        "start_time = time.time()\n",
        "for epoch in range(NUM_EPOCHS):\n",
        "\n",
        "    model.train()\n",
        "    for batch_idx, (features, targets) in enumerate(train_loader):\n",
        "\n",
        "        features = features.to(DEVICE)\n",
        "        targets = targets.to(DEVICE)\n",
        "\n",
        "        ### FORWARD AND BACK PROP\n",
        "        logits, probas = model(features)\n",
        "        cost = F.cross_entropy(logits, targets)\n",
        "        optimizer.zero_grad()\n",
        "\n",
        "        cost.backward()\n",
        "\n",
        "        ### UPDATE MODEL PARAMETERS\n",
        "        optimizer.step()\n",
        "\n",
        "        ### LOGGING\n",
        "        if not batch_idx % 50:\n",
        "            print ('Epoch: %03d/%03d | Batch %04d/%04d | Cost: %.4f'\n",
        "                   %(epoch+1, NUM_EPOCHS, batch_idx,\n",
        "                     len(train_loader), cost))\n",
        "\n",
        "\n",
        "\n",
        "    model.eval()\n",
        "    with torch.set_grad_enabled(False): # save memory during inference\n",
        "        print('Epoch: %03d/%03d | Train: %.3f%%' % (\n",
        "              epoch+1, NUM_EPOCHS,\n",
        "              compute_accuracy(model, train_loader, device=DEVICE)))\n",
        "\n",
        "    print('Time elapsed: %.2f min' % ((time.time() - start_time)/60))\n",
        "\n",
        "print('Total Training Time: %.2f min' % ((time.time() - start_time)/60))"
      ],
      "metadata": {
        "colab": {
          "base_uri": "https://localhost:8080/"
        },
        "id": "_jn7k-uAya3S",
        "outputId": "cf8ac0b8-f4be-47f8-dbc2-38336af37900"
      },
      "execution_count": 14,
      "outputs": [
        {
          "output_type": "stream",
          "name": "stdout",
          "text": [
            "Epoch: 001/010 | Batch 0000/0469 | Cost: 2.6379\n",
            "Epoch: 001/010 | Batch 0050/0469 | Cost: 0.2048\n",
            "Epoch: 001/010 | Batch 0100/0469 | Cost: 0.0702\n",
            "Epoch: 001/010 | Batch 0150/0469 | Cost: 0.0849\n",
            "Epoch: 001/010 | Batch 0200/0469 | Cost: 0.0553\n",
            "Epoch: 001/010 | Batch 0250/0469 | Cost: 0.3123\n",
            "Epoch: 001/010 | Batch 0300/0469 | Cost: 0.0322\n",
            "Epoch: 001/010 | Batch 0350/0469 | Cost: 0.1471\n",
            "Epoch: 001/010 | Batch 0400/0469 | Cost: 0.1255\n",
            "Epoch: 001/010 | Batch 0450/0469 | Cost: 0.0234\n",
            "Epoch: 001/010 | Train: 97.087%\n",
            "Time elapsed: 0.46 min\n",
            "Epoch: 002/010 | Batch 0000/0469 | Cost: 0.1008\n",
            "Epoch: 002/010 | Batch 0050/0469 | Cost: 0.0772\n",
            "Epoch: 002/010 | Batch 0100/0469 | Cost: 0.0304\n",
            "Epoch: 002/010 | Batch 0150/0469 | Cost: 0.0238\n",
            "Epoch: 002/010 | Batch 0200/0469 | Cost: 0.0435\n",
            "Epoch: 002/010 | Batch 0250/0469 | Cost: 0.0408\n",
            "Epoch: 002/010 | Batch 0300/0469 | Cost: 0.0351\n",
            "Epoch: 002/010 | Batch 0350/0469 | Cost: 0.0566\n",
            "Epoch: 002/010 | Batch 0400/0469 | Cost: 0.0311\n",
            "Epoch: 002/010 | Batch 0450/0469 | Cost: 0.0381\n",
            "Epoch: 002/010 | Train: 98.515%\n",
            "Time elapsed: 0.80 min\n",
            "Epoch: 003/010 | Batch 0000/0469 | Cost: 0.0280\n",
            "Epoch: 003/010 | Batch 0050/0469 | Cost: 0.0228\n",
            "Epoch: 003/010 | Batch 0100/0469 | Cost: 0.0253\n",
            "Epoch: 003/010 | Batch 0150/0469 | Cost: 0.0163\n",
            "Epoch: 003/010 | Batch 0200/0469 | Cost: 0.1182\n",
            "Epoch: 003/010 | Batch 0250/0469 | Cost: 0.0829\n",
            "Epoch: 003/010 | Batch 0300/0469 | Cost: 0.0132\n",
            "Epoch: 003/010 | Batch 0350/0469 | Cost: 0.0314\n",
            "Epoch: 003/010 | Batch 0400/0469 | Cost: 0.0270\n",
            "Epoch: 003/010 | Batch 0450/0469 | Cost: 0.0407\n",
            "Epoch: 003/010 | Train: 99.148%\n",
            "Time elapsed: 1.15 min\n",
            "Epoch: 004/010 | Batch 0000/0469 | Cost: 0.0569\n",
            "Epoch: 004/010 | Batch 0050/0469 | Cost: 0.0102\n",
            "Epoch: 004/010 | Batch 0100/0469 | Cost: 0.0353\n",
            "Epoch: 004/010 | Batch 0150/0469 | Cost: 0.0156\n",
            "Epoch: 004/010 | Batch 0200/0469 | Cost: 0.0252\n",
            "Epoch: 004/010 | Batch 0250/0469 | Cost: 0.0276\n",
            "Epoch: 004/010 | Batch 0300/0469 | Cost: 0.1216\n",
            "Epoch: 004/010 | Batch 0350/0469 | Cost: 0.0136\n",
            "Epoch: 004/010 | Batch 0400/0469 | Cost: 0.0517\n",
            "Epoch: 004/010 | Batch 0450/0469 | Cost: 0.0059\n",
            "Epoch: 004/010 | Train: 99.197%\n",
            "Time elapsed: 1.49 min\n",
            "Epoch: 005/010 | Batch 0000/0469 | Cost: 0.0054\n",
            "Epoch: 005/010 | Batch 0050/0469 | Cost: 0.0196\n",
            "Epoch: 005/010 | Batch 0100/0469 | Cost: 0.0338\n",
            "Epoch: 005/010 | Batch 0150/0469 | Cost: 0.0203\n",
            "Epoch: 005/010 | Batch 0200/0469 | Cost: 0.0148\n",
            "Epoch: 005/010 | Batch 0250/0469 | Cost: 0.0506\n",
            "Epoch: 005/010 | Batch 0300/0469 | Cost: 0.0105\n",
            "Epoch: 005/010 | Batch 0350/0469 | Cost: 0.0535\n",
            "Epoch: 005/010 | Batch 0400/0469 | Cost: 0.0743\n",
            "Epoch: 005/010 | Batch 0450/0469 | Cost: 0.0149\n",
            "Epoch: 005/010 | Train: 99.565%\n",
            "Time elapsed: 1.84 min\n",
            "Epoch: 006/010 | Batch 0000/0469 | Cost: 0.0161\n",
            "Epoch: 006/010 | Batch 0050/0469 | Cost: 0.0119\n",
            "Epoch: 006/010 | Batch 0100/0469 | Cost: 0.0083\n",
            "Epoch: 006/010 | Batch 0150/0469 | Cost: 0.1071\n",
            "Epoch: 006/010 | Batch 0200/0469 | Cost: 0.0228\n",
            "Epoch: 006/010 | Batch 0250/0469 | Cost: 0.0018\n",
            "Epoch: 006/010 | Batch 0300/0469 | Cost: 0.0097\n",
            "Epoch: 006/010 | Batch 0350/0469 | Cost: 0.0035\n",
            "Epoch: 006/010 | Batch 0400/0469 | Cost: 0.0564\n",
            "Epoch: 006/010 | Batch 0450/0469 | Cost: 0.0266\n",
            "Epoch: 006/010 | Train: 99.128%\n",
            "Time elapsed: 2.20 min\n",
            "Epoch: 007/010 | Batch 0000/0469 | Cost: 0.0313\n",
            "Epoch: 007/010 | Batch 0050/0469 | Cost: 0.0015\n",
            "Epoch: 007/010 | Batch 0100/0469 | Cost: 0.0146\n",
            "Epoch: 007/010 | Batch 0150/0469 | Cost: 0.0022\n",
            "Epoch: 007/010 | Batch 0200/0469 | Cost: 0.0121\n",
            "Epoch: 007/010 | Batch 0250/0469 | Cost: 0.0309\n",
            "Epoch: 007/010 | Batch 0300/0469 | Cost: 0.0164\n",
            "Epoch: 007/010 | Batch 0350/0469 | Cost: 0.0305\n",
            "Epoch: 007/010 | Batch 0400/0469 | Cost: 0.0053\n",
            "Epoch: 007/010 | Batch 0450/0469 | Cost: 0.0273\n",
            "Epoch: 007/010 | Train: 99.490%\n",
            "Time elapsed: 2.57 min\n",
            "Epoch: 008/010 | Batch 0000/0469 | Cost: 0.0004\n",
            "Epoch: 008/010 | Batch 0050/0469 | Cost: 0.0043\n",
            "Epoch: 008/010 | Batch 0100/0469 | Cost: 0.0234\n",
            "Epoch: 008/010 | Batch 0150/0469 | Cost: 0.0024\n",
            "Epoch: 008/010 | Batch 0200/0469 | Cost: 0.0116\n",
            "Epoch: 008/010 | Batch 0250/0469 | Cost: 0.0271\n",
            "Epoch: 008/010 | Batch 0300/0469 | Cost: 0.0797\n",
            "Epoch: 008/010 | Batch 0350/0469 | Cost: 0.0013\n",
            "Epoch: 008/010 | Batch 0400/0469 | Cost: 0.0028\n",
            "Epoch: 008/010 | Batch 0450/0469 | Cost: 0.0920\n",
            "Epoch: 008/010 | Train: 99.190%\n",
            "Time elapsed: 2.92 min\n",
            "Epoch: 009/010 | Batch 0000/0469 | Cost: 0.0115\n",
            "Epoch: 009/010 | Batch 0050/0469 | Cost: 0.0039\n",
            "Epoch: 009/010 | Batch 0100/0469 | Cost: 0.0039\n",
            "Epoch: 009/010 | Batch 0150/0469 | Cost: 0.0487\n",
            "Epoch: 009/010 | Batch 0200/0469 | Cost: 0.0467\n",
            "Epoch: 009/010 | Batch 0250/0469 | Cost: 0.0200\n",
            "Epoch: 009/010 | Batch 0300/0469 | Cost: 0.0091\n",
            "Epoch: 009/010 | Batch 0350/0469 | Cost: 0.0117\n",
            "Epoch: 009/010 | Batch 0400/0469 | Cost: 0.0013\n",
            "Epoch: 009/010 | Batch 0450/0469 | Cost: 0.0160\n",
            "Epoch: 009/010 | Train: 99.335%\n",
            "Time elapsed: 3.27 min\n",
            "Epoch: 010/010 | Batch 0000/0469 | Cost: 0.0441\n",
            "Epoch: 010/010 | Batch 0050/0469 | Cost: 0.0007\n",
            "Epoch: 010/010 | Batch 0100/0469 | Cost: 0.0011\n",
            "Epoch: 010/010 | Batch 0150/0469 | Cost: 0.0081\n",
            "Epoch: 010/010 | Batch 0200/0469 | Cost: 0.0016\n",
            "Epoch: 010/010 | Batch 0250/0469 | Cost: 0.0065\n",
            "Epoch: 010/010 | Batch 0300/0469 | Cost: 0.0651\n",
            "Epoch: 010/010 | Batch 0350/0469 | Cost: 0.0087\n",
            "Epoch: 010/010 | Batch 0400/0469 | Cost: 0.0195\n",
            "Epoch: 010/010 | Batch 0450/0469 | Cost: 0.0206\n",
            "Epoch: 010/010 | Train: 99.292%\n",
            "Time elapsed: 3.63 min\n",
            "Total Training Time: 3.63 min\n"
          ]
        }
      ]
    },
    {
      "cell_type": "code",
      "source": [
        "with torch.set_grad_enabled(False): # save memory during inference\n",
        "    print('Test accuracy: %.2f%%' % (compute_accuracy(model, test_loader, device=DEVICE)))"
      ],
      "metadata": {
        "id": "dftE5RaazdIF",
        "colab": {
          "base_uri": "https://localhost:8080/"
        },
        "outputId": "9b9d372f-019e-4e90-c45b-6979e23a9dec"
      },
      "execution_count": 15,
      "outputs": [
        {
          "output_type": "stream",
          "name": "stdout",
          "text": [
            "Test accuracy: 98.76%\n"
          ]
        }
      ]
    },
    {
      "cell_type": "code",
      "source": [
        "for batch_idx, (features, targets) in enumerate(test_loader):\n",
        "\n",
        "    features = features\n",
        "    targets = targets\n",
        "    break\n",
        "\n",
        "\n",
        "nhwc_img = np.transpose(features[0], axes=(1, 2, 0))\n",
        "nhw_img = np.squeeze(nhwc_img.numpy(), axis=2)\n",
        "plt.imshow(nhw_img, cmap='Greys');"
      ],
      "metadata": {
        "colab": {
          "base_uri": "https://localhost:8080/",
          "height": 430
        },
        "id": "8R6JVU_fzuVn",
        "outputId": "0a7ced2e-e687-4336-d695-c20e9d11b3aa"
      },
      "execution_count": 16,
      "outputs": [
        {
          "output_type": "display_data",
          "data": {
            "text/plain": [
              "<Figure size 640x480 with 1 Axes>"
            ],
            "image/png": "[encoded data removed]"
          },
          "metadata": {}
        }
      ]
    },
    {
      "cell_type": "code",
      "source": [
        "model.eval()\n",
        "logits, probas = model(features.to(device)[0, None])\n",
        "print('Probability 7 %.2f%%' % (probas[0][7]*100))"
      ],
      "metadata": {
        "colab": {
          "base_uri": "https://localhost:8080/"
        },
        "id": "NBe1GJQxz1KA",
        "outputId": "fea4a51a-cdee-4c73-d512-dd417f6aa640"
      },
      "execution_count": 17,
      "outputs": [
        {
          "output_type": "stream",
          "name": "stdout",
          "text": [
            "Probability 7 100.00%\n"
          ]
        }
      ]
    }
  ]
}